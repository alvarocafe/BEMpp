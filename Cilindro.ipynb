{
 "cells": [
  {
   "cell_type": "code",
   "execution_count": 1,
   "metadata": {
    "collapsed": true
   },
   "outputs": [],
   "source": [
    "import bempp.api\n",
    "import numpy as np\n",
    "\n",
    "bempp.api.global_parameters.quadrature.medium.double_order = 4\n",
    "bempp.api.global_parameters.quadrature.far.double_order = 4"
   ]
  },
  {
   "cell_type": "code",
   "execution_count": 2,
   "metadata": {
    "collapsed": true
   },
   "outputs": [],
   "source": [
    "import numpy\n",
    "from scipy.sparse import coo_matrix, triu\n",
    "import sys\n",
    "\n",
    "\n",
    "class Mesh:\n",
    "    \"\"\"\n",
    "    Store the verts and elements and physical data\n",
    "    attributes\n",
    "    ----------\n",
    "    Verts : array\n",
    "        array of 3d coordinates (npts x 3)\n",
    "    Elmts : dict\n",
    "        dictionary of tuples\n",
    "        (rank 1 array of physical ids, rank 2 array of element to vertex ids\n",
    "        (Nel x ppe)) each array in the tuple is of length nElmts Phys : dict\n",
    "        keys and names\n",
    "    methods\n",
    "    -------\n",
    "    read_msh:\n",
    "        read a 2.0 ascii gmsh file\n",
    "    write_neu:\n",
    "        write a gambit neutral file. works for tets, tris in 3d and 2d\n",
    "    write_vtu:\n",
    "        write VTK file (calling vtk_writer.py)\n",
    "    \"\"\"\n",
    "    def __init__(self):\n",
    "\n",
    "        self.Verts = []\n",
    "        self.Elmts = {}\n",
    "        self.Phys = {}\n",
    "\n",
    "        self.npts = 0\n",
    "        self.nElmts = {}\n",
    "        self.nprops = 0\n",
    "\n",
    "        self._elm_types()   # sets elm_type\n",
    "\n",
    "        self.meshname = \"\"\n",
    "\n",
    "    def read_msh(self, mshfile):\n",
    "        \"\"\"Read a Gmsh .msh file.\n",
    "        Reads Gmsh 2.0 mesh files\n",
    "        \"\"\"\n",
    "        self.meshname = mshfile\n",
    "        try:\n",
    "            fid = open(mshfile, \"r\")\n",
    "        except IOError:\n",
    "            print(\"File '%s' not found.\" % mshfile)\n",
    "            sys.exit()\n",
    "\n",
    "        line = 'start'\n",
    "        while line:\n",
    "            line = fid.readline()\n",
    "\n",
    "            if line.find('$MeshFormat') == 0:\n",
    "                line = fid.readline()\n",
    "                if line.split()[0][0] is not '2':\n",
    "                    print(\"wrong gmsh version\")\n",
    "                    sys.exit()\n",
    "                line = fid.readline()\n",
    "                if line.find('$EndMeshFormat') != 0:\n",
    "                    raise ValueError('expecting EndMeshFormat')\n",
    "\n",
    "            if line.find('$PhysicalNames') == 0:\n",
    "                line = fid.readline()\n",
    "                self.nprops = int(line.split()[0])\n",
    "                for i in range(0, self.nprops):\n",
    "                    line = fid.readline()\n",
    "                    newkey = int(line.split()[1])\n",
    "                    qstart = line.find('\"')+1\n",
    "                    qend = line.find('\"', -1, 0)-1\n",
    "                    self.Phys[newkey] = line[qstart:qend]\n",
    "                line = fid.readline()\n",
    "                if line.find('$EndPhysicalNames') != 0:\n",
    "                    raise ValueError('expecting EndPhysicalNames')\n",
    "\n",
    "            if line.find('$ParametricNodes') == 0:\n",
    "                line = fid.readline()\n",
    "                self.npts = int(line.split()[0])\n",
    "                self.Verts = numpy.zeros((self.npts, 3), dtype=float)\n",
    "                for i in range(0, self.npts):\n",
    "                    line = fid.readline()\n",
    "                    data = line.split()\n",
    "                    idx = int(data[0]) - 1  # fix gmsh 1-based indexing\n",
    "                    if i != idx:\n",
    "                        raise ValueError('problem with vertex ids')\n",
    "                    self.Verts[idx, :] = list(map(float, data[1:4]))\n",
    "                line = fid.readline()\n",
    "                if line.find('$EndParametricNodes') != 0:\n",
    "                    raise ValueError('expecting EndParametricNodes')\n",
    "\n",
    "            if line.find('$Nodes') == 0:\n",
    "                line = fid.readline()\n",
    "                self.npts = int(line.split()[0])\n",
    "                self.Verts = numpy.zeros((self.npts, 3), dtype=float)\n",
    "                for i in range(0, self.npts):\n",
    "                    line = fid.readline()\n",
    "                    data = line.split()\n",
    "                    idx = int(data[0]) - 1  # fix gmsh 1-based indexing\n",
    "                    if i != idx:\n",
    "                        raise ValueError('problem with vertex ids')\n",
    "                    self.Verts[idx, :] = list(map(float, data[1:4]))\n",
    "                line = fid.readline()\n",
    "                if line.find('$EndNodes') != 0:\n",
    "                    raise ValueError('expecting EndNodes')\n",
    "                    \n",
    "\n",
    "            if line.find('$Elements') == 0:\n",
    "                line = fid.readline()\n",
    "                self.nel = int(line.split()[0])\n",
    "                for i in range(0, self.nel):\n",
    "                    line = fid.readline()\n",
    "                    data = line.split()\n",
    "                    idx = int(data[0]) - 1  # fix gmsh 1-based indexing\n",
    "                    if i != idx:\n",
    "                        raise ValueError('problem with elements ids')\n",
    "                    etype = int(data[1])           # element type\n",
    "                    ntags = int(data[2])           # number of tags following\n",
    "                    k = 3\n",
    "                    if ntags > 0:                   # set physical id\n",
    "                        physid = int(data[k+1])\n",
    "                        if physid not in self.Phys:\n",
    "                            self.Phys[physid] = 'Physical Entity %d' % physid\n",
    "                            self.nprops += 1\n",
    "                        k += ntags\n",
    "\n",
    "                    verts = list(map(int, data[k:]))\n",
    "                    verts = numpy.array(verts)  # fixe gmsh 1-based\n",
    "\n",
    "                    if (etype not in self.Elmts) or\\\n",
    "                            (len(self.Elmts[etype]) == 0):\n",
    "                        # initialize\n",
    "                        self.Elmts[etype] = (physid, verts)\n",
    "                        self.nElmts[etype] = 1\n",
    "                    else:\n",
    "                        # append\n",
    "                        self.Elmts[etype] = \\\n",
    "                            (numpy.hstack((self.Elmts[etype][0], physid)),\n",
    "                             numpy.vstack((self.Elmts[etype][1], verts)))\n",
    "                        self.nElmts[etype] += 1\n",
    "#                    print(self.Elmts)\n",
    "    \n",
    "                line = fid.readline()\n",
    "                if line.find('$EndElements') != 0:\n",
    "                    raise ValueError('expecting EndElements')\n",
    "        fid.close()\n",
    "    def _elm_types(self):\n",
    "        elm_type = {}\n",
    "        elm_type[1] = 2     # 2-node line\n",
    "        elm_type[2] = 3     # 3-node triangle\n",
    "        elm_type[3] = 4     # 4-node quadrangle\n",
    "        elm_type[4] = 4     # 4-node tetrahedron\n",
    "        elm_type[5] = 8     # 8-node hexahedron\n",
    "        elm_type[6] = 6     # 6-node prism\n",
    "        elm_type[7] = 5     # 5-node pyramid\n",
    "        elm_type[8] = 3     # 3-node second order line\n",
    "                            # (2 nodes at vertices and 1 with edge)\n",
    "        elm_type[9] = 6     # 6-node second order triangle\n",
    "                            # (3 nodes at vertices and 3 with edges)\n",
    "        elm_type[10] = 9    # 9-node second order quadrangle\n",
    "                            # (4 nodes at vertices,\n",
    "                            #  4 with edges and 1 with face)\n",
    "        elm_type[11] = 10   # 10-node second order tetrahedron\n",
    "                            # (4 nodes at vertices and 6 with edges)\n",
    "        elm_type[12] = 27   # 27-node second order hexahedron\n",
    "                            # (8 nodes at vertices, 12 with edges,\n",
    "                            #  6 with faces and 1 with volume)\n",
    "        elm_type[13] = 18   # 18-node second order prism\n",
    "                            # (6 nodes at vertices,\n",
    "                            #  9 with edges and 3 with quadrangular faces)\n",
    "        elm_type[14] = 14   # 14-node second order pyramid\n",
    "                            # (5 nodes at vertices,\n",
    "                            #  8 with edges and 1 with quadrangular face)\n",
    "        elm_type[15] = 1    # 1-node point\n",
    "        elm_type[16] = 8    # 8-node second order quadrangle\n",
    "                            # (4 nodes at vertices and 4 with edges)\n",
    "        elm_type[17] = 20   # 20-node second order hexahedron\n",
    "                            # (8 nodes at vertices and 12 with edges)\n",
    "        elm_type[18] = 15   # 15-node second order prism\n",
    "                            # (6 nodes at vertices and 9 with edges)\n",
    "        elm_type[19] = 13   # 13-node second order pyramid\n",
    "                            # (5 nodes at vertices and 8 with edges)\n",
    "        elm_type[20] = 9    # 9-node third order incomplete triangle\n",
    "                            # (3 nodes at vertices, 6 with edges)\n",
    "        elm_type[21] = 10   # 10-node third order triangle\n",
    "                            # (3 nodes at vertices, 6 with edges, 1 with face)\n",
    "        elm_type[22] = 12   # 12-node fourth order incomplete triangle\n",
    "                            # (3 nodes at vertices, 9 with edges)\n",
    "        elm_type[23] = 15   # 15-node fourth order triangle\n",
    "                            # (3 nodes at vertices, 9 with edges, 3 with face)\n",
    "        elm_type[24] = 15   # 15-node fifth order incomplete triangle\n",
    "                            # (3 nodes at vertices, 12 with edges)\n",
    "        elm_type[25] = 21   # 21-node fifth order complete triangle\n",
    "                            # (3 nodes at vertices, 12 with edges, 6 with face)\n",
    "        elm_type[26] = 4    # 4-node third order edge\n",
    "                            # (2 nodes at vertices, 2 internal to edge)\n",
    "        elm_type[27] = 5    # 5-node fourth order edge\n",
    "                            # (2 nodes at vertices, 3 internal to edge)\n",
    "        elm_type[28] = 6    # 6-node fifth order edge\n",
    "                            # (2 nodes at vertices, 4 internal to edge)\n",
    "        elm_type[29] = 20   # 20-node third order tetrahedron\n",
    "                            # (4 nodes at vertices, 12 with edges,\n",
    "                            #  4 with faces)\n",
    "        elm_type[30] = 35   # 35-node fourth order tetrahedron\n",
    "                            # (4 nodes at vertices, 18 with edges,\n",
    "                            #  12 with faces, 1 in volume)\n",
    "        elm_type[31] = 56   # 56-node fifth order tetrahedron\n",
    "                            # (4 nodes at vertices, 24 with edges,\n",
    "                            #  24 with faces, 4 in volume)\n",
    "        self.elm_type = elm_type\n"
   ]
  },
  {
   "cell_type": "code",
   "execution_count": 3,
   "metadata": {
    "collapsed": true
   },
   "outputs": [],
   "source": [
    "file = 'cilindro_10x100mm';\n",
    "    #boundary condition 0:temp 1:flux, not define is zero flux [1, 0] where [type, value]\n",
    "# surf_bc={12:[0,0],5:[0,1]}\n",
    "dirichlet_segments = [1,2]\n",
    "mymesh = Mesh() #criou objeto: instanciou a classe\n",
    "#chamei o metodo do objeto\n",
    "mymesh.read_msh(file + '.msh')\n",
    "XYZ = mymesh.Verts\n",
    "# get only the triangular elements [[physid],[nodes]] physid is the surf of the elem\n",
    "tri = mymesh.Elmts[2][1]-1\n",
    "surf = mymesh.Elmts[2][0]-1"
   ]
  },
  {
   "cell_type": "code",
   "execution_count": 4,
   "metadata": {},
   "outputs": [
    {
     "name": "stdout",
     "output_type": "stream",
     "text": [
      "(608, 3)\n",
      "(608,)\n"
     ]
    },
    {
     "data": {
      "text/plain": [
       "array([0, 0, 0, 0, 0, 0, 0, 0, 0, 0, 0, 0, 0, 0, 0, 0, 0, 0, 0, 0, 0, 0, 0,\n",
       "       0, 0, 0, 0, 0, 0, 0, 0, 0, 0, 0, 0, 0, 0, 0, 0, 0, 0, 0, 0, 0, 0, 0,\n",
       "       0, 0, 0, 0, 0, 0, 0, 0, 0, 0, 0, 0, 0, 0, 0, 0, 0, 0, 0, 0, 0, 0, 0,\n",
       "       0, 0, 0, 0, 0, 0, 0, 0, 0, 0, 0, 0, 0, 0, 0, 0, 0, 0, 0, 0, 0, 0, 0,\n",
       "       0, 0, 0, 0, 0, 0, 0, 0, 0, 0, 0, 0, 0, 0, 0, 0, 0, 0, 0, 0, 0, 0, 0,\n",
       "       0, 0, 0, 0, 0, 0, 0, 0, 0, 0, 0, 0, 0, 0, 0, 0, 0, 0, 0, 0, 0, 0, 0,\n",
       "       0, 0, 0, 0, 0, 0, 0, 0, 0, 0, 0, 0, 0, 0, 0, 0, 0, 0, 0, 0, 0, 0, 0,\n",
       "       0, 0, 0, 0, 0, 0, 0, 0, 0, 0, 0, 0, 0, 0, 0, 0, 0, 0, 0, 0, 0, 0, 0,\n",
       "       0, 0, 0, 0, 0, 0, 0, 0, 0, 0, 0, 0, 0, 0, 0, 0, 0, 0, 0, 0, 0, 0, 0,\n",
       "       0, 0, 0, 0, 0, 0, 0, 0, 0, 0, 0, 0, 0, 0, 0, 0, 0, 0, 0, 0, 0, 0, 0,\n",
       "       0, 0, 0, 0, 0, 0, 0, 0, 0, 0, 0, 0, 0, 0, 0, 0, 0, 0, 0, 0, 0, 0, 0,\n",
       "       0, 0, 0, 0, 0, 0, 0, 0, 0, 0, 0, 0, 0, 0, 0, 0, 0, 0, 0, 0, 0, 0, 0,\n",
       "       0, 0, 0, 0, 0, 0, 0, 0, 0, 0, 0, 0, 0, 0, 0, 0, 0, 0, 0, 0, 0, 0, 0,\n",
       "       0, 0, 0, 0, 0, 0, 0, 0, 0, 0, 0, 0, 0, 0, 0, 0, 0, 0, 0, 0, 0, 0, 0,\n",
       "       0, 0, 0, 0, 0, 0, 0, 0, 0, 0, 0, 0, 0, 0, 0, 0, 0, 0, 0, 0, 0, 0, 0,\n",
       "       0, 0, 0, 0, 0, 0, 0, 0, 0, 0, 0, 0, 0, 0, 0, 0, 0, 0, 0, 0, 0, 0, 0,\n",
       "       0, 0, 0, 0, 0, 0, 0, 0, 0, 0, 0, 0, 0, 0, 0, 0, 0, 0, 0, 0, 0, 0, 0,\n",
       "       0, 0, 0, 0, 0, 0, 0, 0, 0, 0, 0, 0, 0, 0, 0, 0, 0, 0, 0, 0, 0, 0, 0,\n",
       "       0, 0, 0, 0, 0, 0, 0, 0, 0, 0, 0, 0, 0, 0, 0, 0, 0, 0, 0, 0, 0, 0, 0,\n",
       "       0, 0, 0, 0, 0, 0, 0, 0, 0, 0, 0, 0, 0, 0, 0, 0, 0, 0, 0, 0, 0, 0, 0,\n",
       "       0, 0, 0, 0, 0, 0, 0, 0, 0, 0, 0, 0, 0, 0, 0, 0, 0, 0, 0, 0, 1, 1, 1,\n",
       "       1, 1, 1, 1, 1, 1, 1, 1, 1, 1, 1, 1, 1, 1, 1, 1, 1, 1, 1, 1, 1, 1, 1,\n",
       "       1, 1, 1, 1, 1, 1, 1, 1, 1, 1, 1, 1, 1, 1, 1, 1, 1, 1, 1, 1, 1, 1, 1,\n",
       "       1, 1, 1, 1, 1, 1, 1, 1, 1, 1, 1, 1, 1, 1, 1, 2, 2, 2, 2, 2, 2, 2, 2,\n",
       "       2, 2, 2, 2, 2, 2, 2, 2, 2, 2, 2, 2, 2, 2, 2, 2, 2, 2, 2, 2, 2, 2, 2,\n",
       "       2, 2, 2, 2, 2, 2, 2, 2, 2, 2, 2, 2, 2, 2, 2, 2, 2, 2, 2, 2, 2, 2, 2,\n",
       "       2, 2, 2, 2, 2, 2, 2, 2, 2, 2])"
      ]
     },
     "execution_count": 4,
     "metadata": {},
     "output_type": "execute_result"
    }
   ],
   "source": [
    "print(tri.shape)\n",
    "print(surf.shape)\n",
    "surf"
   ]
  },
  {
   "cell_type": "code",
   "execution_count": 5,
   "metadata": {},
   "outputs": [
    {
     "data": {
      "text/plain": [
       "0"
      ]
     },
     "execution_count": 5,
     "metadata": {},
     "output_type": "execute_result"
    }
   ],
   "source": [
    "surf[50]"
   ]
  },
  {
   "cell_type": "code",
   "execution_count": 6,
   "metadata": {
    "collapsed": true
   },
   "outputs": [],
   "source": [
    "domain_index=surf\n",
    "segments=np.unique(surf)\n",
    "neumann_segments=[iseg for iseg in segments if iseg not in dirichlet_segments]\n",
    "grid= bempp.api.grid_from_element_data(XYZ.transpose(), tri.transpose(),domain_index)"
   ]
  },
  {
   "cell_type": "code",
   "execution_count": 7,
   "metadata": {
    "collapsed": true
   },
   "outputs": [],
   "source": [
    "order_neumann = 0\n",
    "order_dirichlet = 1\n",
    "\n",
    "global_neumann_space = bempp.api.function_space(grid, \"DP\", order_neumann)\n",
    "global_dirichlet_space = bempp.api.function_space(grid, \"P\", order_dirichlet)\n",
    "\n",
    "neumann_space_dirichlet_segment = bempp.api.function_space(\n",
    "    grid, \"DP\", order_neumann, domains=dirichlet_segments,\n",
    "    closed=True, element_on_segment=True)\n",
    "\n",
    "neumann_space_neumann_segment = bempp.api.function_space(\n",
    "    grid, \"DP\", order_neumann, domains=neumann_segments,\n",
    "    closed=False, element_on_segment=True, reference_point_on_segment=False)\n",
    "\n",
    "dirichlet_space_dirichlet_segment = bempp.api.function_space(\n",
    "    grid, \"P\", order_dirichlet, domains=dirichlet_segments, closed=True)\n",
    "\n",
    "dirichlet_space_neumann_segment = bempp.api.function_space(\n",
    "    grid, \"P\", order_dirichlet, domains=neumann_segments, closed=False)\n",
    "\n",
    "dual_dirichlet_space = bempp.api.function_space(\n",
    "    grid, \"P\", order_dirichlet, domains=dirichlet_segments,\n",
    "    closed=True, strictly_on_segment=True)"
   ]
  },
  {
   "cell_type": "code",
   "execution_count": 8,
   "metadata": {
    "collapsed": true
   },
   "outputs": [],
   "source": [
    "slp_DD = bempp.api.operators.boundary.laplace.single_layer(\n",
    "    neumann_space_dirichlet_segment,\n",
    "    dirichlet_space_dirichlet_segment,\n",
    "    neumann_space_dirichlet_segment)\n",
    "\n",
    "dlp_DN = bempp.api.operators.boundary.laplace.double_layer(\n",
    "    dirichlet_space_neumann_segment,\n",
    "    dirichlet_space_dirichlet_segment,\n",
    "    neumann_space_dirichlet_segment)\n",
    "\n",
    "adlp_ND = bempp.api.operators.boundary.laplace.adjoint_double_layer(\n",
    "    neumann_space_dirichlet_segment,\n",
    "    neumann_space_neumann_segment,\n",
    "    dirichlet_space_neumann_segment)\n",
    "\n",
    "hyp_NN = bempp.api.operators.boundary.laplace.hypersingular(\n",
    "    dirichlet_space_neumann_segment,\n",
    "    neumann_space_neumann_segment,\n",
    "    dirichlet_space_neumann_segment)\n",
    "\n",
    "slp_DN = bempp.api.operators.boundary.laplace.single_layer(\n",
    "    neumann_space_neumann_segment,\n",
    "    dirichlet_space_dirichlet_segment,\n",
    "    neumann_space_dirichlet_segment)\n",
    "\n",
    "dlp_DD = bempp.api.operators.boundary.laplace.double_layer(\n",
    "    dirichlet_space_dirichlet_segment,\n",
    "    dirichlet_space_dirichlet_segment,\n",
    "    neumann_space_dirichlet_segment)\n",
    "\n",
    "id_DD = bempp.api.operators.boundary.sparse.identity(\n",
    "    dirichlet_space_dirichlet_segment,\n",
    "    dirichlet_space_dirichlet_segment,\n",
    "    neumann_space_dirichlet_segment)\n",
    "\n",
    "adlp_NN = bempp.api.operators.boundary.laplace.adjoint_double_layer(\n",
    "    neumann_space_neumann_segment,\n",
    "    neumann_space_neumann_segment,\n",
    "    dirichlet_space_neumann_segment)\n",
    "\n",
    "id_NN = bempp.api.operators.boundary.sparse.identity(\n",
    "    neumann_space_neumann_segment,\n",
    "    neumann_space_neumann_segment,\n",
    "    dirichlet_space_neumann_segment)\n",
    "\n",
    "hyp_ND = bempp.api.operators.boundary.laplace.hypersingular(\n",
    "    dirichlet_space_dirichlet_segment,\n",
    "    neumann_space_neumann_segment,\n",
    "    dirichlet_space_neumann_segment)\n",
    "\n",
    "blocked = bempp.api.BlockedOperator(2, 2)\n",
    "\n",
    "blocked[0, 0] = slp_DD\n",
    "blocked[0, 1] = -dlp_DN\n",
    "blocked[1, 0] = adlp_ND\n",
    "blocked[1, 1] = hyp_NN"
   ]
  },
  {
   "cell_type": "code",
   "execution_count": 9,
   "metadata": {
    "collapsed": true
   },
   "outputs": [],
   "source": [
    "def dirichlet_data_fun(x,domain_index):\n",
    "    if(domain_index==1):\n",
    "        return 1\n",
    "    elif(domain_index==2):\n",
    "        return 1\n",
    "    else:\n",
    "        return 0\n",
    "    \n",
    "def dirichlet_data(x, n, domain_index, res):\n",
    "    res[0] = dirichlet_data_fun(x,domain_index)\n",
    "    \n",
    "def neumann_data_fun(x):\n",
    "    return 0\n",
    " \n",
    "def neumann_data(x, n, domain_index, res):\n",
    "    res[0] = neumann_data_fun(x)\n",
    "\n",
    "dirichlet_grid_fun = bempp.api.GridFunction(\n",
    "    dirichlet_space_dirichlet_segment,\n",
    "    fun=dirichlet_data, dual_space=dual_dirichlet_space)\n",
    "\n",
    "neumann_grid_fun = bempp.api.GridFunction(\n",
    "    neumann_space_neumann_segment,\n",
    "    fun=neumann_data, dual_space=dirichlet_space_neumann_segment)\n",
    "\n",
    "rhs_fun1 = (.5 * id_DD + dlp_DD) * dirichlet_grid_fun \\\n",
    "           - slp_DN * neumann_grid_fun\n",
    "rhs_fun2 = - hyp_ND * dirichlet_grid_fun \\\n",
    "           + (.5 * id_NN - adlp_NN) * neumann_grid_fun"
   ]
  },
  {
   "cell_type": "code",
   "execution_count": 10,
   "metadata": {
    "collapsed": true
   },
   "outputs": [],
   "source": [
    "lhs = blocked.weak_form()\n",
    "rhs = np.hstack([rhs_fun1.projections(neumann_space_dirichlet_segment), \n",
    "                 rhs_fun2.projections(dirichlet_space_neumann_segment)])\n",
    "from scipy.sparse.linalg import gmres\n",
    "x, info = gmres(lhs, rhs)"
   ]
  },
  {
   "cell_type": "code",
   "execution_count": 11,
   "metadata": {
    "collapsed": true
   },
   "outputs": [],
   "source": [
    "nx0 = neumann_space_dirichlet_segment.global_dof_count\n",
    "\n",
    "neumann_solution = bempp.api.GridFunction(\n",
    "    neumann_space_dirichlet_segment, coefficients=x[:nx0])\n",
    "dirichlet_solution = bempp.api.GridFunction(\n",
    "    dirichlet_space_neumann_segment, coefficients=x[nx0:])"
   ]
  },
  {
   "cell_type": "code",
   "execution_count": 12,
   "metadata": {
    "collapsed": true
   },
   "outputs": [],
   "source": [
    "bempp.api.PLOT_BACKEND = \"ipython_notebook\""
   ]
  },
  {
   "cell_type": "code",
   "execution_count": 14,
   "metadata": {},
   "outputs": [
    {
     "data": {
      "application/vnd.jupyter.widget-view+json": {
       "model_id": "a4428d2016b445b0baf4bff57709f462",
       "version_major": 2,
       "version_minor": 0
      },
      "text/plain": [
       "A Jupyter Widget"
      ]
     },
     "metadata": {},
     "output_type": "display_data"
    },
    {
     "data": {
      "application/vnd.jupyter.widget-view+json": {
       "model_id": "e888855c66da48f98e90a0465d37e2a5",
       "version_major": 2,
       "version_minor": 0
      },
      "text/plain": [
       "A Jupyter Widget"
      ]
     },
     "metadata": {},
     "output_type": "display_data"
    }
   ],
   "source": [
    "neumann_imbedding_dirichlet_segment = \\\n",
    "    bempp.api.operators.boundary.sparse.identity(\n",
    "        neumann_space_dirichlet_segment,\n",
    "        global_neumann_space,\n",
    "        global_neumann_space)\n",
    "\n",
    "neumann_imbedding_neumann_segment = \\\n",
    "    bempp.api.operators.boundary.sparse.identity(\n",
    "        neumann_space_neumann_segment,\n",
    "        global_neumann_space,\n",
    "        global_neumann_space)\n",
    "\n",
    "dirichlet_imbedding_dirichlet_segment = \\\n",
    "    bempp.api.operators.boundary.sparse.identity(\n",
    "        dirichlet_space_dirichlet_segment,\n",
    "        global_dirichlet_space,\n",
    "        global_dirichlet_space)\n",
    "\n",
    "dirichlet_imbedding_neumann_segment = \\\n",
    "    bempp.api.operators.boundary.sparse.identity(\n",
    "        dirichlet_space_neumann_segment,\n",
    "        global_dirichlet_space,\n",
    "        global_dirichlet_space)\n",
    "\n",
    "dirichlet = (dirichlet_imbedding_dirichlet_segment * dirichlet_grid_fun +\n",
    "             dirichlet_imbedding_neumann_segment * dirichlet_solution)\n",
    "\n",
    "neumann = (neumann_imbedding_neumann_segment * neumann_grid_fun +\n",
    "           neumann_imbedding_dirichlet_segment * neumann_solution)\n",
    "\n",
    "dirichlet.plot()"
   ]
  },
  {
   "cell_type": "code",
   "execution_count": 15,
   "metadata": {},
   "outputs": [
    {
     "name": "stdout",
     "output_type": "stream",
     "text": [
      "The grid has 608 elements.\n"
     ]
    }
   ],
   "source": [
    "# Print out the number of elements\n",
    "number_of_elements = grid.leaf_view.entity_count(0)\n",
    "print(\"The grid has {0} elements.\".format(number_of_elements))"
   ]
  },
  {
   "cell_type": "code",
   "execution_count": 16,
   "metadata": {},
   "outputs": [
    {
     "name": "stdout",
     "output_type": "stream",
     "text": [
      "Number of global neumann dofs: 608\n"
     ]
    }
   ],
   "source": [
    "number_of_global_neumann_dofs = global_neumann_space.global_dof_count\n",
    "print(\"Number of global neumann dofs: {0}\".format(number_of_global_neumann_dofs))"
   ]
  },
  {
   "cell_type": "code",
   "execution_count": 17,
   "metadata": {},
   "outputs": [
    {
     "name": "stdout",
     "output_type": "stream",
     "text": [
      "Number of global dirichlet dofs: 306\n"
     ]
    }
   ],
   "source": [
    "number_of_global_dirichlet_dofs = global_dirichlet_space.global_dof_count\n",
    "print(\"Number of global dirichlet dofs: {0}\".format(number_of_global_dirichlet_dofs))"
   ]
  },
  {
   "cell_type": "code",
   "execution_count": 18,
   "metadata": {},
   "outputs": [
    {
     "name": "stdout",
     "output_type": "stream",
     "text": [
      "Number of global dofs: 914\n"
     ]
    }
   ],
   "source": [
    "print(\"Number of global dofs: {0}\".format(number_of_global_dirichlet_dofs+number_of_global_neumann_dofs))"
   ]
  },
  {
   "cell_type": "code",
   "execution_count": null,
   "metadata": {
    "collapsed": true
   },
   "outputs": [],
   "source": []
  },
  {
   "cell_type": "code",
   "execution_count": null,
   "metadata": {
    "collapsed": true
   },
   "outputs": [],
   "source": []
  }
 ],
 "metadata": {
  "kernelspec": {
   "display_name": "Python 3",
   "language": "python",
   "name": "python3"
  },
  "language_info": {
   "codemirror_mode": {
    "name": "ipython",
    "version": 3
   },
   "file_extension": ".py",
   "mimetype": "text/x-python",
   "name": "python",
   "nbconvert_exporter": "python",
   "pygments_lexer": "ipython3",
   "version": "3.5.2"
  }
 },
 "nbformat": 4,
 "nbformat_minor": 2
}
